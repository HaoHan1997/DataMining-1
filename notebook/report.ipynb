{
 "cells": [
  {
   "cell_type": "code",
   "execution_count": 15,
   "metadata": {},
   "outputs": [],
   "source": [
    "import pickle as pkl\n",
    "import numpy as np\n",
    "from sklearn import metrics"
   ]
  },
  {
   "cell_type": "code",
   "execution_count": 4,
   "metadata": {},
   "outputs": [],
   "source": [
    "len_features = 5000\n",
    "\n",
    "with open('../data/tfidf{}_test.pkl'.format(len_features), 'rb') as f:\n",
    "    tfidf = pkl.load(f)\n",
    "y = np.load('../data/y_test.npy')\n",
    "assert tfidf.shape[0] == y.shape[0]"
   ]
  },
  {
   "cell_type": "code",
   "execution_count": 14,
   "metadata": {},
   "outputs": [],
   "source": [
    "catagorys = ['agriculture', 'car', 'computersoftware', 'finance', 'labor',\n",
    "             'medical', 'movie', 'policy', 'psychology', 'sport']\n",
    "def score(ret):\n",
    "    \"\"\"\n",
    "    计算每个类的precision，recell，F1\n",
    "    :param ret: 整体的混淆矩阵\n",
    "    :return:\n",
    "    \"\"\"\n",
    "    for i in range(ret.shape[0]):\n",
    "        TP = ret[i][i]\n",
    "        FN = ret[i].sum() - ret[i][i]\n",
    "        FP = ret[:, i].sum() - ret[i][i]\n",
    "        TN = ret.sum() - TP - FN - FP\n",
    "        precision = TP/(TP+FP)\n",
    "        recall = TP/(TP+FN)\n",
    "        f1_score = 2*TP/(ret.sum() + TP - TN)\n",
    "        print('\\nmetric of {}:'.format(catagorys[i]))\n",
    "        print('confusion_matrix\\n[[{}, {}],\\n[{}, {}]]'.format(TP, FN, FP, TN))\n",
    "        print('precision={}, recall={}, f1_score={}'.format(precision, recall, f1_score))"
   ]
  },
  {
   "cell_type": "markdown",
   "metadata": {},
   "source": [
    "Naive Bayes"
   ]
  },
  {
   "cell_type": "code",
   "execution_count": 6,
   "metadata": {},
   "outputs": [],
   "source": [
    "scores = np.load('../data/NBscores_5000.npy')"
   ]
  },
  {
   "cell_type": "code",
   "execution_count": 7,
   "metadata": {},
   "outputs": [],
   "source": [
    "y_pred = []\n",
    "for doc in tfidf:\n",
    "    doc = doc.toarray().flatten()\n",
    "    tmp = scores.dot(doc)\n",
    "    y_pred.append(tmp.argmax())"
   ]
  },
  {
   "cell_type": "code",
   "execution_count": 8,
   "metadata": {},
   "outputs": [
    {
     "name": "stdout",
     "output_type": "stream",
     "text": [
      "0.876735\n"
     ]
    }
   ],
   "source": [
    "print(metrics.accuracy_score(y, y_pred))"
   ]
  },
  {
   "cell_type": "code",
   "execution_count": 9,
   "metadata": {},
   "outputs": [
    {
     "name": "stdout",
     "output_type": "stream",
     "text": [
      "[[36100   618   780   347   393   724   109   706    50   173]\n",
      " [  181 36366  1294   569   306    40   272   342    80   550]\n",
      " [  440  1132 34358   942   391   433   486   501   381   936]\n",
      " [  169   380   829 36125   859    25   169  1149   124   171]\n",
      " [  199   267   622  1280 33481   471   175  2329   712   464]\n",
      " [ 1054    89  1273   145   583 34547   108   873   755   573]\n",
      " [   42   192   546   149    71    20 37958   453   247   322]\n",
      " [  326   351   394   948  1797   133   985 33431  1111   524]\n",
      " [   66   136   729   143   455   406   737   464 35959   905]\n",
      " [  236   561  1163   408   637   502  1299  1425  1400 32369]]\n"
     ]
    }
   ],
   "source": [
    "print(metrics.confusion_matrix(y, y_pred))"
   ]
  },
  {
   "cell_type": "code",
   "execution_count": 16,
   "metadata": {},
   "outputs": [
    {
     "name": "stdout",
     "output_type": "stream",
     "text": [
      "\n",
      "metric of agriculture:\n",
      "confusion_matrix\n",
      "[[36100, 3900],\n",
      "[2713, 357287]]\n",
      "precision=0.9301007394429701, recall=0.9025, f1_score=0.9160925228071511\n",
      "\n",
      "metric of car:\n",
      "confusion_matrix\n",
      "[[36366, 3634],\n",
      "[3726, 356274]]\n",
      "precision=0.9070637533672553, recall=0.90915, f1_score=0.9081056784697598\n",
      "\n",
      "metric of computersoftware:\n",
      "confusion_matrix\n",
      "[[34358, 5642],\n",
      "[7630, 352370]]\n",
      "precision=0.8182814137372583, recall=0.85895, f1_score=0.8381226520954286\n",
      "\n",
      "metric of finance:\n",
      "confusion_matrix\n",
      "[[36125, 3875],\n",
      "[4931, 355069]]\n",
      "precision=0.8798957521434139, recall=0.903125, f1_score=0.8913590604026845\n",
      "\n",
      "metric of labor:\n",
      "confusion_matrix\n",
      "[[33481, 6519],\n",
      "[5492, 354508]]\n",
      "precision=0.8590819285146127, recall=0.837025, f1_score=0.8479100452053233\n",
      "\n",
      "metric of medical:\n",
      "confusion_matrix\n",
      "[[34547, 5453],\n",
      "[2754, 357246]]\n",
      "precision=0.9261681992439881, recall=0.863675, f1_score=0.8938306102120283\n",
      "\n",
      "metric of movie:\n",
      "confusion_matrix\n",
      "[[37958, 2042],\n",
      "[4340, 355660]]\n",
      "precision=0.8973946758711996, recall=0.94895, f1_score=0.9224525504872536\n",
      "\n",
      "metric of policy:\n",
      "confusion_matrix\n",
      "[[33431, 6569],\n",
      "[8242, 351758]]\n",
      "precision=0.8022220622465386, recall=0.835775, f1_score=0.8186548798256462\n",
      "\n",
      "metric of psychology:\n",
      "confusion_matrix\n",
      "[[35959, 4041],\n",
      "[4860, 355140]]\n",
      "precision=0.8809377985741934, recall=0.898975, f1_score=0.8898650069909303\n",
      "\n",
      "metric of sport:\n",
      "confusion_matrix\n",
      "[[32369, 7631],\n",
      "[4618, 355382]]\n",
      "precision=0.8751453213291156, recall=0.809225, f1_score=0.8408952160754413\n"
     ]
    }
   ],
   "source": [
    "score(metrics.confusion_matrix(y, y_pred))"
   ]
  },
  {
   "cell_type": "markdown",
   "metadata": {},
   "source": [
    "LinerSVC"
   ]
  },
  {
   "cell_type": "code",
   "execution_count": 17,
   "metadata": {},
   "outputs": [],
   "source": [
    "with open('../data/linersvm5000.pkl', 'rb') as f:\n",
    "    clf = pkl.load(f)"
   ]
  },
  {
   "cell_type": "code",
   "execution_count": 18,
   "metadata": {},
   "outputs": [],
   "source": [
    "y_pred = clf.predict(tfidf)"
   ]
  },
  {
   "cell_type": "code",
   "execution_count": 19,
   "metadata": {},
   "outputs": [
    {
     "name": "stdout",
     "output_type": "stream",
     "text": [
      "0.9090875\n"
     ]
    }
   ],
   "source": [
    "print(metrics.accuracy_score(y, y_pred))"
   ]
  },
  {
   "cell_type": "code",
   "execution_count": 20,
   "metadata": {},
   "outputs": [
    {
     "name": "stdout",
     "output_type": "stream",
     "text": [
      "[[37524   366   533   133   204   641    32   397    59   111]\n",
      " [  194 37566   872   277   184    59   101   308   105   334]\n",
      " [  513   652 35415   488   320   723   366   441   352   730]\n",
      " [  228   244   783 36626   754    71    78   939   126   151]\n",
      " [  258   174   514   768 34904   337    88  2091   528   338]\n",
      " [  563    37   603    74   353 36909    37   455   531   438]\n",
      " [   57    90   369    71    81    37 38135   497   337   326]\n",
      " [  399   278   475   609  1276   285   384 34828   881   585]\n",
      " [   69    63   446    97   383   386   276   533 37059   688]\n",
      " [  202   343  1052   193   442   380   419  1156  1144 34669]]\n"
     ]
    }
   ],
   "source": [
    "print(metrics.confusion_matrix(y, y_pred))"
   ]
  },
  {
   "cell_type": "code",
   "execution_count": 21,
   "metadata": {},
   "outputs": [
    {
     "name": "stdout",
     "output_type": "stream",
     "text": [
      "\n",
      "metric of agriculture:\n",
      "confusion_matrix\n",
      "[[37524, 2476],\n",
      "[2483, 357517]]\n",
      "precision=0.9379358612242857, recall=0.9381, f1_score=0.9380179234316998\n",
      "\n",
      "metric of car:\n",
      "confusion_matrix\n",
      "[[37566, 2434],\n",
      "[2247, 357753]]\n",
      "precision=0.9435611483686233, recall=0.93915, f1_score=0.94135040657537\n",
      "\n",
      "metric of computersoftware:\n",
      "confusion_matrix\n",
      "[[35415, 4585],\n",
      "[5647, 354353]]\n",
      "precision=0.8624762554186353, recall=0.885375, f1_score=0.8737756285312477\n",
      "\n",
      "metric of finance:\n",
      "confusion_matrix\n",
      "[[36626, 3374],\n",
      "[2710, 357290]]\n",
      "precision=0.9311063656701241, recall=0.91565, f1_score=0.9233135020671575\n",
      "\n",
      "metric of labor:\n",
      "confusion_matrix\n",
      "[[34904, 5096],\n",
      "[3997, 356003]]\n",
      "precision=0.8972519986632734, recall=0.8726, f1_score=0.8847543123661297\n",
      "\n",
      "metric of medical:\n",
      "confusion_matrix\n",
      "[[36909, 3091],\n",
      "[2919, 357081]]\n",
      "precision=0.9267098523651702, recall=0.922725, f1_score=0.9247131332364584\n",
      "\n",
      "metric of movie:\n",
      "confusion_matrix\n",
      "[[38135, 1865],\n",
      "[1781, 358219]]\n",
      "precision=0.9553813007315363, recall=0.953375, f1_score=0.9543770959507483\n",
      "\n",
      "metric of policy:\n",
      "confusion_matrix\n",
      "[[34828, 5172],\n",
      "[6817, 353183]]\n",
      "precision=0.8363068795773803, recall=0.8707, f1_score=0.8531569600097986\n",
      "\n",
      "metric of psychology:\n",
      "confusion_matrix\n",
      "[[37059, 2941],\n",
      "[4063, 355937]]\n",
      "precision=0.9011964398618745, recall=0.926475, f1_score=0.9136609057962082\n",
      "\n",
      "metric of sport:\n",
      "confusion_matrix\n",
      "[[34669, 5331],\n",
      "[3701, 356299]]\n",
      "precision=0.9035444357571019, recall=0.866725, f1_score=0.884751818297818\n"
     ]
    }
   ],
   "source": [
    "score(metrics.confusion_matrix(y, y_pred))"
   ]
  },
  {
   "cell_type": "markdown",
   "metadata": {},
   "source": [
    "SVC(kernel='rbf', C=1000)"
   ]
  },
  {
   "cell_type": "code",
   "execution_count": 22,
   "metadata": {},
   "outputs": [
    {
     "name": "stderr",
     "output_type": "stream",
     "text": [
      "d:\\python36\\lib\\site-packages\\sklearn\\base.py:251: UserWarning: Trying to unpickle estimator SVC from version 0.20.1 when using version 0.20.0. This might lead to breaking code or invalid results. Use at your own risk.\n",
      "  UserWarning)\n"
     ]
    }
   ],
   "source": [
    "with open('../data/svm5000_c1000.pkl', 'rb') as f:\n",
    "    clf = pkl.load(f)"
   ]
  },
  {
   "cell_type": "code",
   "execution_count": null,
   "metadata": {},
   "outputs": [],
   "source": [
    "y_pred = clf.predict(tfidf)"
   ]
  },
  {
   "cell_type": "code",
   "execution_count": null,
   "metadata": {},
   "outputs": [],
   "source": []
  }
 ],
 "metadata": {
  "kernelspec": {
   "display_name": "Python 3",
   "language": "python",
   "name": "python3"
  },
  "language_info": {
   "codemirror_mode": {
    "name": "ipython",
    "version": 3
   },
   "file_extension": ".py",
   "mimetype": "text/x-python",
   "name": "python",
   "nbconvert_exporter": "python",
   "pygments_lexer": "ipython3",
   "version": "3.6.7"
  }
 },
 "nbformat": 4,
 "nbformat_minor": 2
}
