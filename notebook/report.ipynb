{
 "cells": [
  {
   "cell_type": "code",
   "execution_count": 16,
   "metadata": {},
   "outputs": [],
   "source": [
    "import pickle as pkl\n",
    "import numpy as np\n",
    "from sklearn import metrics"
   ]
  },
  {
   "cell_type": "code",
   "execution_count": 9,
   "metadata": {},
   "outputs": [],
   "source": [
    "len_features = 5000\n",
    "\n",
    "with open('../data/tfidf{}_test.pkl'.format(len_features), 'rb') as f:\n",
    "    tfidf = pkl.load(f)\n",
    "y = np.load('../data/y_test.npy')\n",
    "assert tfidf.shape[0] == y.shape[0]"
   ]
  },
  {
   "cell_type": "markdown",
   "metadata": {},
   "source": [
    "Naive Bayes"
   ]
  },
  {
   "cell_type": "code",
   "execution_count": 11,
   "metadata": {},
   "outputs": [],
   "source": [
    "scores = np.load('../data/NBscores_5000.npy')"
   ]
  },
  {
   "cell_type": "code",
   "execution_count": 13,
   "metadata": {},
   "outputs": [],
   "source": [
    "y_pred = []\n",
    "for doc in tfidf:\n",
    "    doc = doc.toarray().flatten()\n",
    "    tmp = scores.dot(doc)\n",
    "    y_pred.append(tmp.argmax())"
   ]
  },
  {
   "cell_type": "code",
   "execution_count": 17,
   "metadata": {},
   "outputs": [
    {
     "name": "stdout",
     "output_type": "stream",
     "text": [
      "0.876735\n"
     ]
    }
   ],
   "source": [
    "print(metrics.accuracy_score(y, y_pred))"
   ]
  },
  {
   "cell_type": "code",
   "execution_count": 18,
   "metadata": {},
   "outputs": [
    {
     "name": "stdout",
     "output_type": "stream",
     "text": [
      "[[36100   618   780   347   393   724   109   706    50   173]\n",
      " [  181 36366  1294   569   306    40   272   342    80   550]\n",
      " [  440  1132 34358   942   391   433   486   501   381   936]\n",
      " [  169   380   829 36125   859    25   169  1149   124   171]\n",
      " [  199   267   622  1280 33481   471   175  2329   712   464]\n",
      " [ 1054    89  1273   145   583 34547   108   873   755   573]\n",
      " [   42   192   546   149    71    20 37958   453   247   322]\n",
      " [  326   351   394   948  1797   133   985 33431  1111   524]\n",
      " [   66   136   729   143   455   406   737   464 35959   905]\n",
      " [  236   561  1163   408   637   502  1299  1425  1400 32369]]\n"
     ]
    }
   ],
   "source": [
    "print(metrics.confusion_matrix(y, y_pred))"
   ]
  },
  {
   "cell_type": "markdown",
   "metadata": {},
   "source": [
    "LinerSVC"
   ]
  },
  {
   "cell_type": "code",
   "execution_count": 19,
   "metadata": {},
   "outputs": [],
   "source": [
    "with open('../data/linersvm5000.pkl', 'rb') as f:\n",
    "    clf = pkl.load(f)"
   ]
  },
  {
   "cell_type": "code",
   "execution_count": 20,
   "metadata": {},
   "outputs": [],
   "source": [
    "y_pred = clf.predict(tfidf)"
   ]
  },
  {
   "cell_type": "code",
   "execution_count": 21,
   "metadata": {},
   "outputs": [
    {
     "name": "stdout",
     "output_type": "stream",
     "text": [
      "0.9090875\n"
     ]
    }
   ],
   "source": [
    "print(metrics.accuracy_score(y, y_pred))"
   ]
  },
  {
   "cell_type": "code",
   "execution_count": 22,
   "metadata": {},
   "outputs": [
    {
     "name": "stdout",
     "output_type": "stream",
     "text": [
      "[[37524   366   533   133   204   641    32   397    59   111]\n",
      " [  194 37566   872   277   184    59   101   308   105   334]\n",
      " [  513   652 35415   488   320   723   366   441   352   730]\n",
      " [  228   244   783 36626   754    71    78   939   126   151]\n",
      " [  258   174   514   768 34904   337    88  2091   528   338]\n",
      " [  563    37   603    74   353 36909    37   455   531   438]\n",
      " [   57    90   369    71    81    37 38135   497   337   326]\n",
      " [  399   278   475   609  1276   285   384 34828   881   585]\n",
      " [   69    63   446    97   383   386   276   533 37059   688]\n",
      " [  202   343  1052   193   442   380   419  1156  1144 34669]]\n"
     ]
    }
   ],
   "source": [
    "print(metrics.confusion_matrix(y, y_pred))"
   ]
  },
  {
   "cell_type": "code",
   "execution_count": null,
   "metadata": {},
   "outputs": [],
   "source": []
  }
 ],
 "metadata": {
  "kernelspec": {
   "display_name": "Python 3",
   "language": "python",
   "name": "python3"
  },
  "language_info": {
   "codemirror_mode": {
    "name": "ipython",
    "version": 3
   },
   "file_extension": ".py",
   "mimetype": "text/x-python",
   "name": "python",
   "nbconvert_exporter": "python",
   "pygments_lexer": "ipython3",
   "version": "3.6.7"
  }
 },
 "nbformat": 4,
 "nbformat_minor": 2
}
